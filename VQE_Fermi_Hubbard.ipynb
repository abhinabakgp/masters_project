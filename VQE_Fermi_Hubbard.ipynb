{
 "cells": [
  {
   "cell_type": "code",
   "execution_count": 1,
   "id": "463548a2-de6b-428a-aa66-805126930172",
   "metadata": {},
   "outputs": [],
   "source": [
    "from qiskit import ClassicalRegister, QuantumRegister, QuantumCircuit, transpile\n",
    "from qiskit_aer import Aer\n",
    "import numpy as np\n",
    "import matplotlib.pyplot as plt\n",
    "from qiskit.quantum_info import SparsePauliOp,Operator\n",
    "from qiskit.primitives import Estimator\n",
    "import scipy.linalg as la"
   ]
  },
  {
   "cell_type": "markdown",
   "id": "cf4372d7-c5e3-4654-a1f9-175b409a63ce",
   "metadata": {},
   "source": [
    "## Fermi Hubbard Model : 3 sites\n",
    "1. A unitary has to be defined to create the ansatz\n",
    "2. Determine the expectation value\n",
    "3. Go for gradient descend\n",
    "4. Define the Hamiltonian\n",
    "   \\begin{equation}\n",
    "   H = -t \\sum_{\\langle ij \\rangle,\\sigma} (c_{i,\\sigma}^\\dagger c_{j,\\sigma} + c_{j,\\sigma}^\\dagger c_{i,\\sigma}) + U \\sum_{i} n_{i,\\uparrow} n_{i,\\downarrow}\n",
    "   \\end{equation}"
   ]
  },
  {
   "cell_type": "markdown",
   "id": "24ea184d-b74e-4327-8494-91fde73b6c8d",
   "metadata": {},
   "source": [
    "### Define Parameters"
   ]
  },
  {
   "cell_type": "code",
   "execution_count": 17,
   "id": "5afcda93-9c93-40c3-a2fc-b4f1d4a56001",
   "metadata": {
    "editable": true,
    "slideshow": {
     "slide_type": ""
    },
    "tags": []
   },
   "outputs": [],
   "source": [
    "nsite = 3\n",
    "numq = 2*nsite\n",
    "max_step = 10\n",
    "t = 2.0\n",
    "U = 1.0"
   ]
  },
  {
   "cell_type": "markdown",
   "id": "8f789c91-6bec-4117-be56-9c54f703e028",
   "metadata": {},
   "source": [
    "### Set the Hamiltonian Matrix"
   ]
  },
  {
   "cell_type": "code",
   "execution_count": 18,
   "id": "5f8ef23a-4e6e-4364-8865-935ba98f5713",
   "metadata": {},
   "outputs": [],
   "source": [
    "X = np.array([[0,1],[1,0]])\n",
    "Y = np.array([[0,-1j],[1j,0]])\n",
    "Z = np.array([[1,0],[0,-1]])\n",
    "I = np.array([[1,0],[0,1]])\n",
    " \n",
    "string = numq*[I]\n",
    "C = []\n",
    "for i in range(numq):\n",
    "    string[0:i] = i*[Z]\n",
    "    string[i] = 0.5*(X + 1j*Y)\n",
    "    total = string[0]\n",
    "    for j in range(1,numq):\n",
    "        total = np.kron(total,string[j])\n",
    "\n",
    "    C.append(total)\n",
    "\n",
    "Hopp = np.zeros([2**numq,2**numq])\n",
    "Self = np.zeros([2**numq,2**numq])\n",
    "\n",
    "for j in range(nsite-1):\n",
    "    Hopp = Hopp + C[j].T.conj()@C[j+1] + C[j+1].T.conj()@C[j]\n",
    "    Hopp = Hopp + C[j+nsite].T.conj()@C[j+1+nsite] + C[j+1+nsite].T.conj()@C[j+nsite]\n",
    "\n",
    "for j in range(nsite):\n",
    "    Self = Self + C[j].T.conj()@C[j]@C[j+nsite].T.conj()@C[j+nsite]\n",
    "    \n",
    "Hamilton = -t*Hopp + U*Self"
   ]
  },
  {
   "cell_type": "code",
   "execution_count": 19,
   "id": "d3730e58-3720-4b34-8157-146e1a4fc85f",
   "metadata": {},
   "outputs": [],
   "source": [
    "### Evaluating Cost Function"
   ]
  },
  {
   "cell_type": "code",
   "execution_count": 14,
   "id": "b2f4bba7-fa4d-42e0-8bf4-03a6c2f046e7",
   "metadata": {},
   "outputs": [],
   "source": [
    "\n",
    "def my_special(params):\n",
    "    \n",
    "    qr = QuantumRegister(numq)\n",
    "    cr = ClassicalRegister(numq)\n",
    "    qc = QuantumCircuit(qr,cr)\n",
    "    \n",
    "    qc.x(0)\n",
    "    qc.x(4)\n",
    "    # qc.x(4)\n",
    "    # qc.x(5)\n",
    "\n",
    "    qc.barrier()\n",
    "    \n",
    "\n",
    "    my_unitary = la.expm(-1j*Hamilton*params)\n",
    "    qc.unitary(Operator(my_unitary), range(numq) , label=\"U(\\theta)\")\n",
    "    \n",
    "    qc.barrier()\n",
    "\n",
    "    backend = Aer.get_backend('qasm_simulator')\n",
    "\n",
    "   \n",
    "    for i in range(numq):\n",
    "         qc.measure(i,i)\n",
    "        \n",
    "    job_run = transpile(qc, backend=backend) \n",
    "    job_exp = backend.run(job_run,shots=4096)\n",
    "    result = job_exp.result()\n",
    "    counts = result.get_counts(qc)\n",
    "    # print(f\"Step {ab+1} :\" , counts)\n",
    "    s_v = np.zeros(2**numq)\n",
    "    \n",
    "    for key,value in counts.items():\n",
    "        idx = int(key,2)\n",
    "        s_v[idx] = 1*np.sqrt(value/4096)\n",
    "        \n",
    "    ener = s_v.T.conj()@Hamilton@s_v\n",
    "\n",
    "    return ener.real\n",
    "    # return [ener.real,qc]\n",
    "\n",
    "# low = my_special([2.0,4.0,3.0,1.0])\n",
    "# print(low[0])\n",
    "# low[1].draw(output=\"mpl\",scale=0.8)"
   ]
  },
  {
   "cell_type": "markdown",
   "id": "2e08e085-1763-4e95-89fd-4fb5e1ea5028",
   "metadata": {},
   "source": [
    "### Circuit"
   ]
  },
  {
   "cell_type": "markdown",
   "id": "6fe7e23a-46e2-4d83-aa12-4f391a0280c3",
   "metadata": {},
   "source": [
    "### Optimization"
   ]
  },
  {
   "cell_type": "code",
   "execution_count": 20,
   "id": "2474ffee-5f00-456e-909c-8ec9e691306c",
   "metadata": {
    "editable": true,
    "slideshow": {
     "slide_type": ""
    },
    "tags": []
   },
   "outputs": [
    {
     "name": "stdout",
     "output_type": "stream",
     "text": [
      "             message: Optimization terminated successfully.\n",
      "             success: True\n",
      "                 fun: -4.890788768163767\n",
      "                   x: [ 2.999e+00]\n",
      "                 nit: 16\n",
      "                nfev: 331\n",
      "          population: [[ 2.999e+00]\n",
      "                       [ 2.999e+00]\n",
      "                       ...\n",
      "                       [ 2.999e+00]\n",
      "                       [ 2.999e+00]]\n",
      " population_energies: [-4.891e+00 -4.805e+00 ... -4.847e+00 -4.833e+00]\n"
     ]
    }
   ],
   "source": [
    "from scipy.optimize import minimize,differential_evolution\n",
    "\n",
    "res = differential_evolution(my_special,[(-10,10)])\n",
    "\n",
    "print(res)\n",
    "\n",
    "# abv = np.linspace(0,10,30)\n",
    "# skew = []\n",
    "# for dro in abv:\n",
    "#     skew.append(my_special(dro))\n",
    "\n",
    "# plt.plot(abv,skew)\n",
    "# print(min(skew))\n",
    "\n",
    "# initial_guess = [4, 1, 5, 3]\n",
    "\n",
    "# result = minimize(my_special, initial_guess)\n",
    "# print(result)"
   ]
  },
  {
   "cell_type": "code",
   "execution_count": 21,
   "id": "c1ee71e4-519e-456a-a8cc-ee31a12a32ed",
   "metadata": {},
   "outputs": [
    {
     "name": "stdout",
     "output_type": "stream",
     "text": [
      "[[ 1. -2.  0. -2.  0.  0.  0.  0.  0.]\n",
      " [-2.  0. -2.  0. -2.  0.  0.  0.  0.]\n",
      " [ 0. -2.  0.  0.  0. -2.  0.  0.  0.]\n",
      " [-2.  0.  0.  0. -2.  0. -2.  0.  0.]\n",
      " [ 0. -2.  0. -2.  1. -2.  0. -2.  0.]\n",
      " [ 0.  0. -2.  0. -2.  0.  0.  0. -2.]\n",
      " [ 0.  0.  0. -2.  0.  0.  0. -2.  0.]\n",
      " [ 0.  0.  0.  0. -2.  0. -2.  0. -2.]\n",
      " [ 0.  0.  0.  0.  0. -2.  0. -2.  1.]]\n",
      "Eigenvalue:  (-5.310041275768481+0j)\n",
      "Eigenvalue:  (6.061491969128035+0j)\n",
      "Eigenvalue:  (-2.372281323269018+0j)\n",
      "Eigenvalue:  (3.3722813232690134+0j)\n",
      "Eigenvalue:  (0.9999999999999991+0j)\n",
      "Eigenvalue:  (0.24854930664043925+0j)\n",
      "Eigenvalue:  (-2.8284271247461907+0j)\n",
      "Eigenvalue:  (2.828427124746189+0j)\n",
      "Eigenvalue:  (-4.5165710571525786e-17+0j)\n",
      "LOWEST :  -5.310041275768481\n"
     ]
    }
   ],
   "source": [
    "#Try by constructing the matrix and finding the eigenvalues\n",
    "N = 3\n",
    "\n",
    "#Check if two states are different by a single hop\n",
    "def hop(psii, psij):\n",
    "    #Check spin down\n",
    "    hopp = 0\n",
    "    if psii[0]==psij[0]:\n",
    "        #Create array of indices with nonzero values\n",
    "        indi = np.nonzero(psii[1])[0]\n",
    "        indj = np.nonzero(psij[1])[0]\n",
    "        for i in range(len(indi)):\n",
    "            if abs(indi[i]-indj[i])==1:\n",
    "                hopp = -t\n",
    "                return hopp\n",
    "    #Check spin up\n",
    "    if psii[1]==psij[1]:\n",
    "        indi = np.nonzero(psii[0])[0]\n",
    "        indj = np.nonzero(psij[0])[0]\n",
    "        for i in range(len(indi)):\n",
    "            if abs(indi[i]-indj[i])==1:\n",
    "                hopp = -t\n",
    "                return hopp\n",
    "    return hopp\n",
    "            \n",
    "#On-site terms\n",
    "def repel(l,state):\n",
    "    if state[0][l]==1 and state[1][l]==1:\n",
    "        return state\n",
    "    else:\n",
    "        return []\n",
    "        \n",
    "# States for 2 fermion with opposite spin\n",
    "states = [ [[1,0,0],[1,0,0]], [[1,0,0],[0,1,0]], [[1,0,0],[0,0,1]],\n",
    "           [[0,1,0],[1,0,0]], [[0,1,0],[0,1,0]], [[0,1,0],[0,0,1]],\n",
    "           [[0,0,1],[1,0,0]], [[0,0,1],[0,1,0]], [[0,0,1],[0,0,1]] ]\n",
    "\n",
    "# # States for a single electron in up spin\n",
    "# states = [ [[1,0,0],[0,0,0]], [[0,1,0],[0,0,0]], [[0,0,1],[0,0,0]] ]\n",
    "\n",
    "# States for a single electron in down spin\n",
    "# states = [ [[0,0,0],[1,0,0]], [[0,0,0],[0,1,0]], [[0,0,0],[0,0,1]] ]\n",
    "\n",
    "# # States for two electrons in down spin\n",
    "# states = [ [[0,0,0],[1,1,0]], [[0,0,0],[0,1,1]], [[0,0,0],[1,0,1]] ]\n",
    "\n",
    "H = np.zeros((len(states),len(states)) )\n",
    "#Construct Hamiltonian matrix\n",
    "for i in range(len(states)):\n",
    "    psi_i = states[i]\n",
    "    for j in range(len(states)):\n",
    "        psi_j = states[j]\n",
    "        if j==i:\n",
    "            for l in range(0,N):\n",
    "                if psi_i == repel(l,psi_j):\n",
    "                    H[i,j] = U\n",
    "                    break\n",
    "        else:\n",
    "            H[i,j] = hop(psi_i, psi_j)\n",
    "\n",
    "print(H)\n",
    "results = la.eig(H)\n",
    "# print()\n",
    "for i in range(len(results[0])):\n",
    "    print('Eigenvalue: ',results[0][i])\n",
    "#     # print('Eigenvector: \\n',results[1][i])\n",
    "    \n",
    "print(\"LOWEST : \",np.min(results[0]).real)\n"
   ]
  },
  {
   "cell_type": "code",
   "execution_count": 161,
   "id": "9a4933aa-db3e-410d-b9b5-3641705c2efb",
   "metadata": {},
   "outputs": [
    {
     "data": {
      "image/png": "[encoded data removed]",
      "text/plain": [
       "<Figure size 472.648x227.422 with 1 Axes>"
      ]
     },
     "execution_count": 161,
     "metadata": {},
     "output_type": "execute_result"
    }
   ],
   "source": [
    "# Some Random Code I guess\n",
    "\n",
    "from qiskit.quantum_info import Pauli,SparsePauliOp,Operator\n",
    "from qiskit import QuantumCircuit\n",
    "from qiskit.quantum_info import SparsePauliOp\n",
    "from qiskit.circuit.library import PauliEvolutionGate\n",
    "from qiskit.synthesis import SuzukiTrotter\n",
    "from qiskit.transpiler import passes\n",
    "from qiskit.compiler import transpile\n",
    "\n",
    "# X = Pauli('X')\n",
    "# Y = Pauli('Y')\n",
    "X = SparsePauliOp(\"XX\")\n",
    "Y = SparsePauliOp(\"YI\")\n",
    "a_dag = 0.5*X-Y\n",
    "hw = 1.0\n",
    "H = hw*a_dag \n",
    "\n",
    "evol_gate = PauliEvolutionGate(H, time=1, synthesis=SuzukiTrotter(reps=2))\n",
    "\n",
    "qc = QuantumCircuit(2,2)\n",
    "qc.append(evol_gate,[0,1])\n",
    "qc.measure((1,0),(1,0))\n",
    "qc.draw('mpl',scale=0.8,initial_state=True)"
   ]
  },
  {
   "cell_type": "markdown",
   "id": "681ccc00-4ca7-4763-b67a-3fa32114f006",
   "metadata": {},
   "source": [
    "ρ = hni = 2(1 + 2e\n",
    "βµ + e\n",
    "2βµ−βU\n",
    ")\n",
    "−1\n",
    "(e\n",
    "βµ + e\n",
    "2βµ−βU\n",
    ")\n"
   ]
  },
  {
   "cell_type": "code",
   "execution_count": 173,
   "id": "56e18ca0-0040-410a-a62b-feb99dcfd0d4",
   "metadata": {},
   "outputs": [
    {
     "data": {
      "text/plain": [
       "[<matplotlib.lines.Line2D at 0x19d26af6de0>]"
      ]
     },
     "execution_count": 173,
     "metadata": {},
     "output_type": "execute_result"
    },
    {
     "data": {
      "image/png": "[encoded data removed]",
      "text/plain": [
       "<Figure size 640x480 with 1 Axes>"
      ]
     },
     "metadata": {},
     "output_type": "display_data"
    }
   ],
   "source": [
    "## Analytical results for Fermi HUbbard model\n",
    "\n",
    "import matplotlib.pyplot as plt\n",
    "\n",
    "U = 4.0\n",
    "T = 0.9\n",
    "mu = np.arange(0,5,0.1)\n",
    "bm = mu/T\n",
    "bU = U/T\n",
    "\n",
    "rho = 2*(np.exp(bU) + np.exp(2*bm - bU))/(1 + 2*np.exp(bm) + np.exp(2*bm - bU))\n",
    "E = U*np.exp(2*bm - bU)/(1 + 2*np.exp(bm) + np.exp(2*bm - bU))\n",
    "plt.plot(mu,rho)"
   ]
  },
  {
   "cell_type": "code",
   "execution_count": null,
   "id": "8adf6f47-68d1-489f-8ec7-9d6f54a65709",
   "metadata": {},
   "outputs": [],
   "source": []
  }
 ],
 "metadata": {
  "kernelspec": {
   "display_name": "Python 3 (ipykernel)",
   "language": "python",
   "name": "python3"
  },
  "language_info": {
   "codemirror_mode": {
    "name": "ipython",
    "version": 3
   },
   "file_extension": ".py",
   "mimetype": "text/x-python",
   "name": "python",
   "nbconvert_exporter": "python",
   "pygments_lexer": "ipython3",
   "version": "3.12.5"
  }
 },
 "nbformat": 4,
 "nbformat_minor": 5
}
