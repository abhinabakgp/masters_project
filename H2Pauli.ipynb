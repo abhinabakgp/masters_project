{
 "cells": [
  {
   "cell_type": "markdown",
   "id": "c724dfff-d7a8-4315-9322-93aa14d68bcc",
   "metadata": {},
   "source": [
    "### Making Pauli string from an Operator converting it to Matrix and then using In Built Function"
   ]
  },
  {
   "cell_type": "code",
   "execution_count": 10,
   "id": "5e75304d-55c0-4e34-b123-eb1dfa126a2d",
   "metadata": {},
   "outputs": [
    {
     "name": "stdout",
     "output_type": "stream",
     "text": [
      "[[ 0.  0.  0. ...  0.  0.  0.]\n",
      " [ 0.  0. -1. ...  0.  0.  0.]\n",
      " [ 0. -1.  0. ...  0.  0.  0.]\n",
      " ...\n",
      " [ 0.  0.  0. ...  4. -1.  0.]\n",
      " [ 0.  0.  0. ... -1.  4.  0.]\n",
      " [ 0.  0.  0. ...  0.  0.  6.]]\n",
      "SparsePauliOp(['IIIIII', 'IIIIIZ', 'IIIIXX', 'IIIIYY', 'IIIIZI', 'IIIXXI', 'IIIYYI', 'IIIZII', 'IIZIII', 'IIZIIZ', 'IXXIII', 'IYYIII', 'IZIIII', 'IZIIZI', 'XXIIII', 'YYIIII', 'ZIIIII', 'ZIIZII'],\n",
      "              coeffs=[ 1.5+0.j, -0.5+0.j, -0.5+0.j, -0.5+0.j, -0.5+0.j, -0.5+0.j, -0.5+0.j,\n",
      " -0.5+0.j, -0.5+0.j,  0.5+0.j, -0.5+0.j, -0.5+0.j, -0.5+0.j,  0.5+0.j,\n",
      " -0.5+0.j, -0.5+0.j, -0.5+0.j,  0.5+0.j])\n"
     ]
    }
   ],
   "source": [
    "import numpy as np\n",
    "import matplotlib.pyplot as plt\n",
    "import scipy.linalg as la\n",
    "from qiskit.quantum_info import SparsePauliOp\n",
    "\n",
    "ns = 3\n",
    "numq = 2*ns\n",
    "t = 1.0\n",
    "U = 2.0\n",
    "\n",
    "X = np.array([[0,1],[1,0]])\n",
    "Y = np.array([[0,-1j],[1j,0]])\n",
    "Z = np.array([[1,0],[0,-1]])\n",
    "I = np.array([[1,0],[0,1]])\n",
    "\n",
    "\n",
    "string = numq*[I]\n",
    "C = []\n",
    "for i in range(numq):\n",
    "    string[0:i] = i*[Z]\n",
    "    string[i] = 0.5*(X + 1j*Y)\n",
    "    total = string[0]\n",
    "    for j in range(1,numq):\n",
    "        total = np.kron(total,string[j])\n",
    "\n",
    "    C.append(total)\n",
    "\n",
    "Hopp = np.zeros([2**numq,2**numq])\n",
    "Self = np.zeros([2**numq,2**numq])\n",
    "\n",
    "for j in range(ns-1):\n",
    "    Hopp = Hopp + C[j].T.conj()@C[j+1] + C[j+1].T.conj()@C[j]\n",
    "    Hopp = Hopp + C[j+ns].T.conj()@C[j+1+ns] + C[j+1+ns].T.conj()@C[j+ns]\n",
    "\n",
    "for j in range(ns):\n",
    "    Self = Self + C[j].T.conj()@C[j]@C[j+ns].T.conj()@C[j+ns]\n",
    "    \n",
    "Hamilton = -t*Hopp + U*Self\n",
    "print(Hamilton.real)\n",
    "\n",
    "pauli_s3 = SparsePauliOp.from_operator(Hamilton)\n",
    "\n",
    "print(pauli_s3)"
   ]
  },
  {
   "cell_type": "markdown",
   "id": "11053deb-2998-439f-9d84-2466b6d8c543",
   "metadata": {},
   "source": [
    "### Direct from J-W Transformation"
   ]
  },
  {
   "cell_type": "code",
   "execution_count": 7,
   "id": "f03d96f3-a2ef-4f56-b31f-8a5e99437fb4",
   "metadata": {},
   "outputs": [
    {
     "data": {
      "text/latex": [
       "$\\displaystyle 1.5 {{{{{1}\\otimes {1}}\\otimes {1}}\\otimes {1}}\\otimes {1}}\\otimes {1} - 0.5 {{{{{1}\\otimes {1}}\\otimes {1}}\\otimes {1}}\\otimes {1}}\\otimes {\\sigma_{3}} - 0.5 {{{{{1}\\otimes {1}}\\otimes {1}}\\otimes {1}}\\otimes {\\sigma_{1}}}\\otimes {\\sigma_{1}} - 0.5 {{{{{1}\\otimes {1}}\\otimes {1}}\\otimes {1}}\\otimes {\\sigma_{2}}}\\otimes {\\sigma_{2}} - 0.5 {{{{{1}\\otimes {1}}\\otimes {1}}\\otimes {1}}\\otimes {\\sigma_{3}}}\\otimes {1} - 0.5 {{{{{1}\\otimes {1}}\\otimes {1}}\\otimes {\\sigma_{1}}}\\otimes {\\sigma_{1}}}\\otimes {1} - 0.5 {{{{{1}\\otimes {1}}\\otimes {1}}\\otimes {\\sigma_{2}}}\\otimes {\\sigma_{2}}}\\otimes {1} - 0.5 {{{{{1}\\otimes {1}}\\otimes {1}}\\otimes {\\sigma_{3}}}\\otimes {1}}\\otimes {1} - 0.5 {{{{{1}\\otimes {1}}\\otimes {\\sigma_{3}}}\\otimes {1}}\\otimes {1}}\\otimes {1} + 0.5 {{{{{1}\\otimes {1}}\\otimes {\\sigma_{3}}}\\otimes {1}}\\otimes {1}}\\otimes {\\sigma_{3}} - 0.5 {{{{{1}\\otimes {\\sigma_{1}}}\\otimes {\\sigma_{1}}}\\otimes {1}}\\otimes {1}}\\otimes {1} - 0.5 {{{{{1}\\otimes {\\sigma_{2}}}\\otimes {\\sigma_{2}}}\\otimes {1}}\\otimes {1}}\\otimes {1} - 0.5 {{{{{1}\\otimes {\\sigma_{3}}}\\otimes {1}}\\otimes {1}}\\otimes {1}}\\otimes {1} + 0.5 {{{{{1}\\otimes {\\sigma_{3}}}\\otimes {1}}\\otimes {1}}\\otimes {\\sigma_{3}}}\\otimes {1} - 0.5 {{{{{\\sigma_{1}}\\otimes {\\sigma_{1}}}\\otimes {1}}\\otimes {1}}\\otimes {1}}\\otimes {1} - 0.5 {{{{{\\sigma_{2}}\\otimes {\\sigma_{2}}}\\otimes {1}}\\otimes {1}}\\otimes {1}}\\otimes {1} - 0.5 {{{{{\\sigma_{3}}\\otimes {1}}\\otimes {1}}\\otimes {1}}\\otimes {1}}\\otimes {1} + 0.5 {{{{{\\sigma_{3}}\\otimes {1}}\\otimes {1}}\\otimes {\\sigma_{3}}}\\otimes {1}}\\otimes {1}$"
      ],
      "text/plain": [
       "1.5*1x1x1x1x1x1 - 0.5*1x1x1x1x1xsigma3 - 0.5*1x1x1x1xsigma1xsigma1 - 0.5*1x1x1x1xsigma2xsigma2 - 0.5*1x1x1x1xsigma3x1 - 0.5*1x1x1xsigma1xsigma1x1 - 0.5*1x1x1xsigma2xsigma2x1 - 0.5*1x1x1xsigma3x1x1 - 0.5*1x1xsigma3x1x1x1 + 0.5*1x1xsigma3x1x1xsigma3 - 0.5*1xsigma1xsigma1x1x1x1 - 0.5*1xsigma2xsigma2x1x1x1 - 0.5*1xsigma3x1x1x1x1 + 0.5*1xsigma3x1x1xsigma3x1 - 0.5*sigma1xsigma1x1x1x1x1 - 0.5*sigma2xsigma2x1x1x1x1 - 0.5*sigma3x1x1x1x1x1 + 0.5*sigma3x1x1xsigma3x1x1"
      ]
     },
     "execution_count": 7,
     "metadata": {},
     "output_type": "execute_result"
    }
   ],
   "source": [
    "import sympy as sp\n",
    "from sympy.physics.quantum import TensorProduct\n",
    "from sympy.physics.paulialgebra import Pauli,evaluate_pauli_product\n",
    "import numpy as np\n",
    "\n",
    "ns = 3\n",
    "numq = 2*ns\n",
    "\n",
    "X,Y,Z = Pauli(1),Pauli(2),Pauli(3)\n",
    "Iden = Pauli(1)*Pauli(1)\n",
    "\n",
    "C,Cd = [],[]\n",
    "\n",
    "# Converting all the creation and annihilation operators to corresponding Pauli strings\n",
    "for j in range(numq):\n",
    "    pC = numq*[Iden] \n",
    "    pC[0:j] = j*[Z] \n",
    "    pC[j]  = (X+1j*Y)*0.5\n",
    "    pCd = pC.copy()\n",
    "    pCd[j] = (X-1j*Y)*0.5\n",
    "    C.append(pC)\n",
    "    Cd.append(pCd)\n",
    "    \n",
    "def mult(*operator):  \n",
    "    pearl = np.array(operator[0])\n",
    "    for kk in range(1,len(operator)):\n",
    "        pearl = pearl*np.array(operator[kk])\n",
    "    emp = pearl[0]\n",
    "    for item in range(1,len(pearl)):\n",
    "        emp = TensorProduct(emp,pearl[item])     \n",
    "    lott = evaluate_pauli_product(emp.expand(tensorproduct=True))\n",
    "    return lott\n",
    "\n",
    "# print(Cd[0],C[1])\n",
    "# logo = mult(Cd[4],C[4],Cd[0],C[0]) \n",
    "\n",
    "Hopp,Self = evaluate_pauli_product(0),evaluate_pauli_product(0)\n",
    "\n",
    "for j in range(ns-1):\n",
    "    Hopp = Hopp + mult(Cd[j],C[j+1]) + mult(Cd[j+1],C[j]) + mult(Cd[j+ns],C[j+1+ns]) + mult(Cd[j+1+ns],C[j+ns])\n",
    "\n",
    "for j in range(ns):\n",
    "    Self = Self + mult(Cd[j],C[j],Cd[j+ns],C[j+ns])\n",
    "    \n",
    "Hamilton = -t*Hopp + U*Self\n",
    "result = Hamilton.expand(tensorproduct = True)\n",
    "result"
   ]
  },
  {
   "cell_type": "code",
   "execution_count": 12,
   "id": "70d1cda4-8668-4269-bbfa-d3dd4fdbba62",
   "metadata": {},
   "outputs": [
    {
     "data": {
      "text/plain": [
       "'1.5*111111 - 0.5*11111Z - 0.5*1111XX - 0.5*1111YY - 0.5*1111Z1 - 0.5*111XX1 - 0.5*111YY1 - 0.5*111Z11 - 0.5*11Z111 + 0.5*11Z11Z - 0.5*1XX111 - 0.5*1YY111 - 0.5*1Z1111 + 0.5*1Z11Z1 - 0.5*XX1111 - 0.5*YY1111 - 0.5*Z11111 + 0.5*Z11Z11'"
      ]
     },
     "execution_count": 12,
     "metadata": {},
     "output_type": "execute_result"
    }
   ],
   "source": [
    "sub_dict = {\"sigma1\":\"X\",\"sigma2\":\"Y\",\"sigma3\":\"Z\",\"x\":\"\"}\n",
    "modified = str(result)\n",
    "for elem in sub_dict:\n",
    "    modified = modified.replace(elem,sub_dict[elem])\n",
    "modified"
   ]
  },
  {
   "cell_type": "code",
   "execution_count": 14,
   "id": "23aa5d70-9713-4b83-b459-5794bab9cfc8",
   "metadata": {},
   "outputs": [
    {
     "data": {
      "text/plain": [
       "SparsePauliOp(['IIIIII', 'IIIIIZ', 'IIIIXX', 'IIIIYY', 'IIIIZI', 'IIIXXI', 'IIIYYI', 'IIIZII', 'IIZIII', 'IIZIIZ', 'IXXIII', 'IYYIII', 'IZIIII', 'IZIIZI', 'XXIIII', 'YYIIII', 'ZIIIII', 'ZIIZII'],\n",
       "              coeffs=[ 1.5+0.j, -0.5+0.j, -0.5+0.j, -0.5+0.j, -0.5+0.j, -0.5+0.j, -0.5+0.j,\n",
       " -0.5+0.j, -0.5+0.j,  0.5+0.j, -0.5+0.j, -0.5+0.j, -0.5+0.j,  0.5+0.j,\n",
       " -0.5+0.j, -0.5+0.j, -0.5+0.j,  0.5+0.j])"
      ]
     },
     "execution_count": 14,
     "metadata": {},
     "output_type": "execute_result"
    }
   ],
   "source": [
    "pauli_s3"
   ]
  },
  {
   "cell_type": "code",
   "execution_count": null,
   "id": "7a8b8da1-1a70-4c51-bbef-eb7789404f17",
   "metadata": {},
   "outputs": [],
   "source": []
  }
 ],
 "metadata": {
  "kernelspec": {
   "display_name": "Python 3 (ipykernel)",
   "language": "python",
   "name": "python3"
  },
  "language_info": {
   "codemirror_mode": {
    "name": "ipython",
    "version": 3
   },
   "file_extension": ".py",
   "mimetype": "text/x-python",
   "name": "python",
   "nbconvert_exporter": "python",
   "pygments_lexer": "ipython3",
   "version": "3.12.5"
  }
 },
 "nbformat": 4,
 "nbformat_minor": 5
}
