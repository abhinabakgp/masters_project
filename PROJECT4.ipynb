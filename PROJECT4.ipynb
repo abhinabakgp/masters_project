{
 "cells": [
  {
   "cell_type": "markdown",
   "id": "a8d7eebb-367b-42c2-bf50-18cc5cecd5c2",
   "metadata": {},
   "source": [
    "## 2 site Fermi Hubbard Non Hermitian VQA"
   ]
  },
  {
   "cell_type": "code",
   "execution_count": 40,
   "id": "62708d00-aed7-4330-867d-5969bb6f9d4e",
   "metadata": {},
   "outputs": [
    {
     "name": "stdout",
     "output_type": "stream",
     "text": [
      "SparsePauliOp(['IIII', 'IIIZ', 'IIXX', 'IIYY', 'IIZI', 'IZII', 'IZIZ', 'XXII', 'YYII', 'ZIII', 'ZIZI'],\n",
      "              coeffs=[ 0.5 +0.25j , -0.25-0.125j, -1.  +0.j   , -1.  +0.j   , -0.25-0.125j,\n",
      " -0.25-0.125j,  0.25+0.125j, -1.  +0.j   , -1.  +0.j   , -0.25-0.125j,\n",
      "  0.25+0.125j])\n"
     ]
    }
   ],
   "source": [
    "import numpy as np\n",
    "import matplotlib.pyplot as plt\n",
    "import scipy.linalg as la\n",
    "from qiskit.quantum_info import SparsePauliOp\n",
    "\n",
    "ns = 2\n",
    "numq = 2*ns\n",
    "t = 2.0 \n",
    "U = 1.0\n",
    "\n",
    "mu = 1.5\n",
    "delta = 0.0\n",
    "gamma = 1.0\n",
    "U = U + 0.5j*gamma\n",
    "\n",
    "X = np.array([[0,1],[1,0]])\n",
    "Y = np.array([[0,-1j],[1j,0]])\n",
    "Z = np.array([[1,0],[0,-1]])\n",
    "I = np.array([[1,0],[0,1]])\n",
    "\n",
    "\n",
    "string = numq*[I]\n",
    "C = []\n",
    "for i in range(numq):\n",
    "    string[0:i] = i*[Z]\n",
    "    string[i] = 0.5*(X + 1j*Y)\n",
    "    total = string[0]\n",
    "    for j in range(1,numq):\n",
    "        total = np.kron(total,string[j])\n",
    "\n",
    "    C.append(total)\n",
    "\n",
    "Hopp = np.zeros([2**numq,2**numq])\n",
    "Self = np.zeros([2**numq,2**numq])\n",
    "Chem = np.zeros([2**numq,2**numq])\n",
    "\n",
    "for j in range(ns-1):\n",
    "    Hopp = Hopp + (-t)*(1+delta)*C[j].T.conj()@C[j+1] + (-t)*(1-delta)*C[j+1].T.conj()@C[j]\n",
    "    Hopp = Hopp + (-t)*(1+delta)*C[j+ns].T.conj()@C[j+1+ns] + (-t)*(1-delta)*C[j+1+ns].T.conj()@C[j+ns]\n",
    "\n",
    "for j in range(ns):\n",
    "    Self = Self + C[j].T.conj()@C[j]@C[j+ns].T.conj()@C[j+ns]\n",
    "    Chem = Chem + C[j].T.conj()@C[j] + C[j+ns].T.conj()@C[j+ns]\n",
    "    \n",
    "Hamilton = Hopp + U*Self #- mu*Chem\n",
    "# print(Hamilton.real)\n",
    "\n",
    "pauli_s3 = SparsePauliOp.from_operator(Hamilton)\n",
    "\n",
    "print(pauli_s3)"
   ]
  },
  {
   "cell_type": "code",
   "execution_count": 41,
   "id": "e3bf8be2-a9f3-4864-b754-5feb6450cd83",
   "metadata": {},
   "outputs": [],
   "source": [
    "from qiskit import QuantumCircuit\n",
    "import scipy.linalg as la\n",
    "import numpy as np\n",
    "from qiskit.primitives import Estimator\n",
    "from qiskit.quantum_info import Operator, SparsePauliOp\n",
    "from scipy.optimize import minimize\n",
    "from qiskit.circuit.library import TwoLocal\n",
    "\n",
    "# H = SparsePauliOp(['IIII', 'IIIZ', 'IIXX', 'IIXY', 'IIYX', 'IIYY', 'IIZI', 'IZII', 'IZIZ', 'XXII', 'XYII', 'YXII', 'YYII', 'ZIII', 'ZIZI'],\n",
    "#                   [-2.5+0.075j ,  0.5-0.0375j, -1.0    , -0.5j   ,  0.5j   , -1.0    ,  0.5-0.0375j,  \n",
    "#                       0.5-0.0375j,  0.25+0.0375j, -1.0  , -0.5j   ,  0.5j   , -1.0  ,  0.5-0.0375j,  0.25+0.0375j])\n",
    "\n",
    "H = pauli_s3\n",
    "\n",
    "def VQA_1st_Step(theta, Er):\n",
    "    \n",
    "  ## theta contains Ei as first element\n",
    "  Ei = theta[0]\n",
    "  qc = ansatz.assign_parameters(theta[1:])\n",
    "  H_minusE = H + SparsePauliOp([H.num_qubits*'I'],[-Er - 1j*Ei])\n",
    "  operator = (H_minusE.conjugate() @ H_minusE).simplify()\n",
    "  estimator = Estimator()\n",
    "  result = estimator.run(qc, operator).result()\n",
    "  return result.values[0]\n",
    "\n",
    "\n",
    "def VQA_2nd_Step(theta):\n",
    "    \n",
    "  ## theta contains Er and Ei as 1st two elements\n",
    "  Er = theta[0] ; Ei = theta[1] \n",
    "  qc = ansatz.assign_parameters(theta[2:])\n",
    "  H_minusE = H + SparsePauliOp([H.num_qubits*'I'],[-Er - 1j*Ei])\n",
    "  operator = (H_minusE.conjugate() @ H_minusE).simplify()\n",
    "  estimator = Estimator()\n",
    "  result = estimator.run(qc, operator).result()\n",
    "  return result.values[0]\n",
    "\n",
    "\n",
    "def get_energy(Er0, Ei0):\n",
    "    \n",
    "    x0 = np.random.random( len(ansatz.parameters) + 1 )\n",
    "\n",
    "    x0[0] = Ei0\n",
    "\n",
    "    result1 = minimize(lambda theta: VQA_1st_Step(theta,Er0), x0 = x0, method=\"BFGS\") \n",
    "\n",
    "    x1 = np.concatenate(([Er0], result1.x))\n",
    "\n",
    "    result2 = minimize(VQA_2nd_Step, x0 = x1, method=\"BFGS\") \n",
    "\n",
    "    return [ result2.x[0], result2.x[1], result2.fun ]\n",
    "\n",
    "ansatz = TwoLocal(H.num_qubits, ['ry', 'rz'], 'cz',reps=4)\n",
    "\n",
    "# get_energy(1.0,1.0)"
   ]
  },
  {
   "cell_type": "code",
   "execution_count": 46,
   "id": "817c0e6d-4d44-4dcc-82be-fc787a2cc7ad",
   "metadata": {},
   "outputs": [
    {
     "name": "stdout",
     "output_type": "stream",
     "text": [
      "1\n",
      "(-3.523489441075243+0.21893248469837387j)\n",
      "LOSS:  4.720384499945496e-11\n",
      "(-3.523489391074453+0.2189334474144103j)\n",
      "LOSS:  4.451463975208014e-09\n",
      "2\n",
      "(-2.000001267544199-5.664895540457419e-08j)\n",
      "LOSS:  3.125512806360035e-11\n",
      "(-3.5234889960162916+0.21893253449120634j)\n",
      "LOSS:  3.029054160275102e-09\n",
      "1\n",
      "(-2-6.050642143186959e-07j)\n",
      "LOSS:  4.702735731439611e-07\n",
      "(-2-1.4949064975600303e-07j)\n",
      "LOSS:  1.2297790025842288e-11\n",
      "1\n",
      "(-1+0.5000002158937739j)\n",
      "LOSS:  6.365482900685066e-11\n",
      "(-1+0.49999952768724254j)\n",
      "LOSS:  1.6018377065050009e-09\n",
      "2\n",
      "6.471753207691963e-05j\n",
      "LOSS:  2.10294348358675e-08\n",
      "-2.118800106348761e-05j\n",
      "LOSS:  1.4941480691588183e-10\n",
      "4\n",
      "(1+0.49999955328956j)\n",
      "LOSS:  2.2344736052259658e-09\n",
      "(1+0.5000001721343724j)\n",
      "LOSS:  1.1296434743366898e-11\n",
      "3\n",
      "(2+1.049388616170016e-07j)\n",
      "LOSS:  1.3234085995380619e-10\n",
      "(2-5.89155592185906e-08j)\n",
      "LOSS:  3.895310447355272e-11\n",
      "4\n",
      "(3+0.4999998548288238j)\n",
      "LOSS:  1.1736030013096687e-10\n",
      "(3+0.4999997014088274j)\n",
      "LOSS:  2.148444789191737e-11\n"
     ]
    }
   ],
   "source": [
    "import random\n",
    "Er0 = -4.0\n",
    "E_max = 4.0\n",
    "delE = 0.3\n",
    "\n",
    "Eset0 = []\n",
    "\n",
    "while (Er0 < E_max):\n",
    "\n",
    "    Ei0 = random.randint(1,5)\n",
    "    print(Ei0)\n",
    "    \n",
    "    result0 = get_energy(Er0, Ei0)\n",
    "    \n",
    "    Er = result0[0]\n",
    "    Ei = result0[1]\n",
    "    \n",
    "    if result0[2] < 1.0e-05:\n",
    "        Eset0.append(Er+1j*Ei)\n",
    "        print(Er + 1j*Ei)\n",
    "        print('LOSS: ',result0[2])\n",
    "\n",
    "    result1 = get_energy(Er0, -1.0*Ei0)\n",
    "\n",
    "    Er = result1[0]\n",
    "    Ei = result1[1]\n",
    "\n",
    "    if result1[2] < 1.0e-05:\n",
    "        Eset0.append(Er+1j*Ei)\n",
    "        print(Er + 1j*Ei)\n",
    "        print('LOSS: ',result1[2])\n",
    "\n",
    "    Er0 += delE\n"
   ]
  },
  {
   "cell_type": "code",
   "execution_count": 68,
   "id": "68291977-3287-4860-8b72-4adcda9ff187",
   "metadata": {},
   "outputs": [],
   "source": [
    "Eset = list(set([elem.round(3) for elem in Eset0]))\n",
    "Erset = [elem.real for elem in Eset]\n",
    "Eiset = [elem.imag for elem in Eset]"
   ]
  },
  {
   "cell_type": "code",
   "execution_count": 70,
   "id": "1ad07f0f-c18d-43f5-b49b-783d65d9f1a8",
   "metadata": {},
   "outputs": [
    {
     "data": {
      "image/png": "[encoded data removed]",
      "text/plain": [
       "<Figure size 640x480 with 1 Axes>"
      ]
     },
     "metadata": {},
     "output_type": "display_data"
    }
   ],
   "source": [
    "import matplotlib.pyplot as plt\n",
    "\n",
    "main = la.eig(H)[0]\n",
    "plt.xlabel('$E_r$')\n",
    "plt.ylabel('$E_i$')\n",
    "plt.scatter(main.real,main.imag,s= 80, facecolors = 'none', edgecolor = 'r',label = 'Exact Diagonalization')\n",
    "plt.scatter(Erset,Eiset,s=70,marker = '+',label='VQA',color='b')\n",
    "plt.legend()\n",
    "plt.title(\"Energy Value comparison for 2 site Non Hermitian F-H Model \\n \"+ r\"$\\delta = 0 $ $\\gamma = 1$  $\\mu = 1.5$ $U_1 = 1$ $t = 2$\", fontsize = 11)\n",
    "\n",
    "plt.show()"
   ]
  },
  {
   "cell_type": "code",
   "execution_count": 65,
   "id": "27dea15d-019a-45c0-93bf-cdc1b4843311",
   "metadata": {},
   "outputs": [
    {
     "data": {
      "text/plain": [
       "array([ 3.  +0.5j , -1.  +0.5j ,  2.  +0.j  , -2.  +0.j  ,  2.  +0.j  ,\n",
       "       -2.  +0.j  , -3.52+0.22j,  4.52+0.28j, -0.  -0.j  , -1.  +0.5j ,\n",
       "        3.  +0.5j ,  1.  +0.5j ,  0.  +0.j  ,  0.  +0.j  ,  0.  +0.j  ,\n",
       "        2.  +1.j  ])"
      ]
     },
     "execution_count": 65,
     "metadata": {},
     "output_type": "execute_result"
    }
   ],
   "source": [
    "main.round(2)"
   ]
  },
  {
   "cell_type": "code",
   "execution_count": null,
   "id": "ab3d5f5a-0242-488e-8806-593e680dff7a",
   "metadata": {},
   "outputs": [],
   "source": []
  }
 ],
 "metadata": {
  "kernelspec": {
   "display_name": "Python 3 (ipykernel)",
   "language": "python",
   "name": "python3"
  },
  "language_info": {
   "codemirror_mode": {
    "name": "ipython",
    "version": 3
   },
   "file_extension": ".py",
   "mimetype": "text/x-python",
   "name": "python",
   "nbconvert_exporter": "python",
   "pygments_lexer": "ipython3",
   "version": "3.12.5"
  }
 },
 "nbformat": 4,
 "nbformat_minor": 5
}
